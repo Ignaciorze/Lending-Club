{
 "cells": [
  {
   "cell_type": "markdown",
   "metadata": {},
   "source": [
    "# Lending Club"
   ]
  },
  {
   "cell_type": "markdown",
   "metadata": {},
   "source": [
    "<img src= https://creditkarmacdn-a.akamaihd.net/res/content/reviews/lending-club-personal-loans/small.png>"
   ]
  },
  {
   "cell_type": "markdown",
   "metadata": {},
   "source": [
    "#### Autores: \n",
    "* Sergio Cañón Laíz\n",
    "* Ignacio Ruiz de Zuazu Echevarría\n",
    "\n",
    "#### Universidad de CUNEF\n",
    "#### Máster en Data Science para Finanzas\n",
    "#### 4 de diciembre de 2020"
   ]
  },
  {
   "cell_type": "markdown",
   "metadata": {},
   "source": [
    "## Tabla de contenidos"
   ]
  },
  {
   "cell_type": "markdown",
   "metadata": {},
   "source": [
    "* [1. Objetivos del trabajo](#Objetivos-del-trabajo) \n",
    "* [2. Dataset y variables](#Dataset-y-variables) \n",
    "* [3. Metodología](#Metodología)\n",
    "* [4. Análisis Exploratorio](#Análisis-Exploratorio-de-los-Datos)\n",
    "   * [4.1 Variable Target](#Variable-Target)\n",
    "   * [4.2 Propósito del crédito](#Propósito-del-crédito)\n",
    "   * [4.3 Distribuciones de la cantidad del préstamo y tipo de interés](#Distribuciones-de-la-cantidad-del-préstamo-y-tipo-de-interés)\n",
    "   * [4.4 Estado de verificación](#Estado-de-verificación)\n",
    "   * [4.5 Columna de pagos](#Columna-de-pagos)\n",
    "   * [4.6 Pagos según el Loan Status](#Pagos-según-el-Loan-Status)\n",
    "   * [4.7 Grades](#Grades)\n",
    "   * [4.8 Terms](#Terms) \n",
    "* [5. Data engineering y selección de variables](#Data-engineering-y-selección-de-variables)\n",
    "   * [5.1 Variables con NA](#Variables-con-NA)\n",
    "   * [5.2 Tratamiento de variables categóricas](#Tratamiento-de-variables-categóricas)\n",
    "   * [5.3 Transformación de dummies](#Transformación-de-dummies)\n",
    "   * [5.4 Transformación de la variable Target](#Transformación-de-la-variable-Target)\n",
    "   * [5.5 Dataset final para realizar modelos](#Dataset-final-para-realizar-modelos)\n",
    "\n",
    "\n"
   ]
  },
  {
   "cell_type": "markdown",
   "metadata": {},
   "source": [
    "## Objetivos del trabajo"
   ]
  },
  {
   "cell_type": "markdown",
   "metadata": {},
   "source": [
    "El objetivo de este proyecto es el de construir un modelo de aprendizaje automático para predecir la probabilidad de que un préstamo se cancele a partir de diversos modelos. Para este trabajo se emplearán los datos proporcionados por Lending Club, en la que se nos aporta información sobre el prestatario y los préstamos concedidos. "
   ]
  },
  {
   "cell_type": "markdown",
   "metadata": {},
   "source": [
    "### Librerías"
   ]
  },
  {
   "cell_type": "code",
   "execution_count": null,
   "metadata": {},
   "outputs": [],
   "source": [
    "import pandas as pd\n",
    "import numpy as np\n",
    "import matplotlib.pyplot as plt\n",
    "import seaborn as sns\n",
    "from matplotlib import rcParams\n",
    "from scipy import stats\n",
    "\n",
    "# Para graficas en jupyter\n",
    "%matplotlib inline\n",
    "# Tamaño de las figuras\n",
    "rcParams['figure.figsize'] = 14,6"
   ]
  },
  {
   "cell_type": "markdown",
   "metadata": {},
   "source": [
    "## Dataset y variables"
   ]
  },
  {
   "cell_type": "code",
   "execution_count": null,
   "metadata": {},
   "outputs": [],
   "source": [
    "loan_training_set1 = pd.read_csv('./data/01_raw/Loan_training_set_1_4.csv', sep = ',' , skiprows=1)\n",
    "loan_training_set1.drop(loan_training_set1.index[105451], inplace=True)\n",
    "loan_training_set1.drop(loan_training_set1.index[105451], inplace=True)\n",
    "loan_training_set1"
   ]
  },
  {
   "cell_type": "code",
   "execution_count": null,
   "metadata": {},
   "outputs": [],
   "source": [
    "loan_training_set2 = pd.read_csv('./data/01_raw/Loan_training_set_2_4.csv', sep = ',' , skiprows=1)\n",
    "loan_training_set2.drop(loan_training_set2.index[122701], inplace=True)\n",
    "loan_training_set2.drop(loan_training_set2.index[122701], inplace=True)\n",
    "loan_training_set2"
   ]
  },
  {
   "cell_type": "code",
   "execution_count": null,
   "metadata": {},
   "outputs": [],
   "source": [
    "loan_training_set3 = pd.read_csv('./data/01_raw/Loan_training_set_3_4.csv', sep = ',' , skiprows=1)\n",
    "loan_training_set3.drop(loan_training_set3.index[235629], inplace=True)\n",
    "loan_training_set3.drop(loan_training_set3.index[235629], inplace=True)\n",
    "loan_training_set3"
   ]
  },
  {
   "cell_type": "code",
   "execution_count": null,
   "metadata": {},
   "outputs": [],
   "source": [
    "loan_training_set4 = pd.read_csv('./data/01_raw/Loan_training_set_4_4.csv', sep = ',' , skiprows=1)\n",
    "loan_training_set4.drop(loan_training_set4.index[421095], inplace=True)\n",
    "loan_training_set4.drop(loan_training_set4.index[421095], inplace=True)\n",
    "loan_training_set4"
   ]
  },
  {
   "cell_type": "code",
   "execution_count": null,
   "metadata": {},
   "outputs": [],
   "source": [
    "frames = [loan_training_set1, loan_training_set2, loan_training_set3,loan_training_set4]\n",
    "lendingclub = pd.concat(frames)"
   ]
  },
  {
   "cell_type": "code",
   "execution_count": null,
   "metadata": {},
   "outputs": [],
   "source": [
    "lendingclub.info()"
   ]
  },
  {
   "cell_type": "markdown",
   "metadata": {},
   "source": [
    "El dataset tiene 884.884 filas/observaciones y 151 columnas/variables. De las variables, 111 son de tipo numérico y 40 de tipo objeto."
   ]
  },
  {
   "cell_type": "markdown",
   "metadata": {},
   "source": [
    "Resumen de las variables numéricas"
   ]
  },
  {
   "cell_type": "code",
   "execution_count": null,
   "metadata": {},
   "outputs": [],
   "source": [
    "lendingclub.describe()"
   ]
  },
  {
   "cell_type": "markdown",
   "metadata": {},
   "source": [
    "## Metodología"
   ]
  },
  {
   "cell_type": "markdown",
   "metadata": {},
   "source": []
  },
  {
   "cell_type": "markdown",
   "metadata": {},
   "source": [
    "## Análisis Exploratorio de los Datos"
   ]
  },
  {
   "cell_type": "markdown",
   "metadata": {},
   "source": [
    "### Variable Target"
   ]
  },
  {
   "cell_type": "markdown",
   "metadata": {},
   "source": [
    "La variable objetivo en este trabajo es `Loan Status`. Vamos a estudiar todos los status."
   ]
  },
  {
   "cell_type": "code",
   "execution_count": null,
   "metadata": {},
   "outputs": [],
   "source": [
    "total = len(lendingclub)\n",
    "plt.figure(figsize = (14,13))\n",
    "g = sns.countplot(x=\"loan_status\", data=lendingclub, \n",
    "                  color='blue')\n",
    "g.set_xticklabels(g.get_xticklabels(),rotation=45)\n",
    "g.set_xlabel(\"Categorias de Loan Status\", fontsize=12)\n",
    "g.set_ylabel(\"Count\", fontsize=15)\n",
    "g.set_title(\"Distribución de tipos de Loan Status\", fontsize=20)\n",
    "sizes=[]\n",
    "for p in g.patches:\n",
    "    height = p.get_height()\n",
    "    sizes.append(height)\n",
    "    g.text(p.get_x()+p.get_width()/2.,\n",
    "            height + 3,\n",
    "            '{:1.2f}%'.format(height/total*100),\n",
    "            ha=\"center\", fontsize=12) \n",
    "g.set_ylim(0, max(sizes) * 1.10)\n",
    "plt.show()"
   ]
  },
  {
   "cell_type": "markdown",
   "metadata": {},
   "source": [
    "### Propósito del crédito"
   ]
  },
  {
   "cell_type": "markdown",
   "metadata": {},
   "source": [
    "Propósito del crédito es una categoría proporcionada por el prestatario para la solicitud de préstamo. Como es una característica categórica que dice cuál es el propósito del préstamo, sería interesante comenzar por esta variable."
   ]
  },
  {
   "cell_type": "code",
   "execution_count": null,
   "metadata": {},
   "outputs": [],
   "source": [
    "plt.figure(figsize=(14,6))\n",
    "\n",
    "g = sns.countplot(x='purpose', data=lendingclub, \n",
    "                  color='blue')\n",
    "g.set_title(\"Propósito de Crédito de los Clientes\", fontsize=22)\n",
    "g.set_xlabel(\"Propósito\", fontsize=18)\n",
    "g.set_ylabel('Count', fontsize=18)\n",
    "\n",
    "sizes=[]\n",
    "\n",
    "for p in g.patches:\n",
    "    height = p.get_height()\n",
    "    sizes.append(height)\n",
    "    g.text(p.get_x()+p.get_width()/2.,\n",
    "            height + 3,\n",
    "            '{:1.2f}%'.format(height/total*100),\n",
    "            ha=\"center\", fontsize=14) \n",
    "    \n",
    "g.set_ylim(0, max(sizes) * 1.10)\n",
    "g.set_xticklabels(g.get_xticklabels(),\n",
    "                  rotation=45)\n",
    "\n",
    "plt.show()"
   ]
  },
  {
   "cell_type": "markdown",
   "metadata": {},
   "source": [
    "### Distribuciones de la cantidad del préstamo y tipo de interés"
   ]
  },
  {
   "cell_type": "markdown",
   "metadata": {},
   "source": [
    "El monto indicado del préstamo solicitado por el prestatario. Si en algún momento, el departamento de crédito reduce el monto del préstamo, entonces se reflejará en este valor. `intRate` es la tasa de interés del préstamo.\n"
   ]
  },
  {
   "cell_type": "code",
   "execution_count": null,
   "metadata": {},
   "outputs": [],
   "source": [
    "int_numeric = lendigclub[\"int_rate\"].str.strip(\"%\")\n",
    "int_numeric = pd.to_numeric(int_numeric)\n",
    "lendigclub[\"int_rate\"] = int_numeric/100\n",
    "\n",
    "lendigclub['int_round'] = lendigclub['int_rate'].round(0).astype(int)\n",
    "\n",
    "#I will start looking the loan_amnt column\n",
    "plt.figure(figsize=(14,10))\n",
    "\n",
    "# Loan Amt plot\n",
    "plt.subplot(211)\n",
    "g = sns.distplot(lendigclub[\"loan_amnt\"])\n",
    "g.set_xlabel(\"Loan Amount Value\", fontsize=16)\n",
    "g.set_ylabel(\"Frequency\", fontsize=16)\n",
    "g.set_title(\"Loan Amount Distribuition\", fontsize=20)\n",
    "\n",
    "## Interest plot\n",
    "plt.subplot(212)\n",
    "g1 = sns.countplot(x=\"int_round\", data=lendigclub, \n",
    "                  color='blue')\n",
    "g1.set_xlabel(\"Loan Interest Rate\", fontsize=16)\n",
    "g1.set_ylabel(\"Count\", fontsize=16)\n",
    "g1.set_title(\"Interest Rate Distribuition\", fontsize=20)\n",
    "sizes=[] # Get highest values in y\n",
    "for p in g1.patches:\n",
    "    height = p.get_height()\n",
    "    sizes.append(height)\n",
    "    g1.text(p.get_x()+p.get_width()/2.,\n",
    "            height + 3,\n",
    "            '{:1.2f}%'.format(height/total*100),\n",
    "            ha=\"center\", fontsize=12) \n",
    "g1.set_ylim(0, max(sizes) * 1.10) # set y limit based on highest heights\n",
    "\n",
    "plt.subplots_adjust(hspace = 0.4,top = 0.9)\n",
    "\n",
    "plt.show()\n"
   ]
  },
  {
   "cell_type": "markdown",
   "metadata": {},
   "source": [
    "### Estado de verificación"
   ]
  },
  {
   "cell_type": "markdown",
   "metadata": {},
   "source": [
    "Indica si el ingreso conjunto de los coprestatarios fue verificado por Lending Club, no verificado, o si se verificó la fuente de ingresos."
   ]
  },
  {
   "cell_type": "code",
   "execution_count": null,
   "metadata": {},
   "outputs": [],
   "source": [
    "plt.figure(figsize = (13,6))\n",
    "\n",
    "g = sns.countplot(x=\"verification_status\", data=lendingclub, \n",
    "                  color='blue')\n",
    "g.set_xlabel(\"Categorias de Loan Status\", fontsize=15)\n",
    "g.set_ylabel(\"Count\", fontsize=15)\n",
    "g.set_title(\"Distribucion tipo de Loan Status\", fontsize=20)\n",
    "sizes=[]\n",
    "for p in g.patches:\n",
    "    height = p.get_height()\n",
    "    sizes.append(height)\n",
    "    g.text(p.get_x()+p.get_width()/2.,\n",
    "            height + 3,\n",
    "            '{:1.2f}%'.format(height/total*100),\n",
    "            ha=\"center\", fontsize=14) \n",
    "g.set_ylim(0, max(sizes) * 1.10)\n",
    "\n",
    "plt.show()"
   ]
  },
  {
   "cell_type": "markdown",
   "metadata": {},
   "source": [
    "### Columna de pagos"
   ]
  },
  {
   "cell_type": "markdown",
   "metadata": {},
   "source": [
    "El pago mensual adeudado por el prestatario si se origina el préstamo. Con esta información, podemos investigar la diferencia entre `emp_title` o regiones, para encontrar algunos patrones de valores interesantes para el estudio."
   ]
  },
  {
   "cell_type": "code",
   "execution_count": null,
   "metadata": {},
   "outputs": [],
   "source": [
    "plt.figure(figsize=(12,5))\n",
    "\n",
    "sns.distplot(lendingclub['installment'])\n",
    "plt.title(\"Installment Distribution\", fontsize=20)\n",
    "plt.xlabel(\"Installment Range\", fontsize=17)\n",
    "plt.ylabel(\"Density\", fontsize=17)\n",
    "\n",
    "plt.show()"
   ]
  },
  {
   "cell_type": "markdown",
   "metadata": {},
   "source": [
    "### Pagos según el Loan Status"
   ]
  },
  {
   "cell_type": "code",
   "execution_count": null,
   "metadata": {},
   "outputs": [],
   "source": [
    "plt.figure(figsize = (14,12))\n",
    "\n",
    "plt.subplot(211)\n",
    "g = sns.violinplot(x='loan_status', y=\"installment\",\n",
    "                   data=lendingclub, color='blue')\n",
    "g.set_xticklabels(g.get_xticklabels(),rotation=45)\n",
    "g.set_xlabel(\"Loan Status\", fontsize=17)\n",
    "g.set_ylabel(\"Pago\", fontsize=17)\n",
    "g.set_title(\"Cuotas por estado del préstamo\", fontsize=20)\n",
    "\n",
    "plt.subplot(212)\n",
    "g1 = sns.violinplot(x='loan_status', y=\"total_acc\",\n",
    "                   data=lendingclub, color='blue')\n",
    "g1.set_xticklabels(g.get_xticklabels(),rotation=45)\n",
    "g1.set_xlabel(\"Loan Status\", fontsize=17)\n",
    "g1.set_ylabel(\"Líneas de cuenta totales\", fontsize=17)\n",
    "g1.set_title(\"Distribución total de líneas de cuenta por estado de préstamo\", fontsize=20)\n",
    "\n",
    "plt.subplots_adjust(hspace = 0.5,top = 0.9)\n",
    "\n",
    "plt.show()"
   ]
  },
  {
   "cell_type": "markdown",
   "metadata": {},
   "source": [
    "### Grades"
   ]
  },
  {
   "cell_type": "markdown",
   "metadata": {},
   "source": [
    "Una de las variables que encontramos relevantes para realizar los modelos es `Grades`, por ello vamos a estudiarla."
   ]
  },
  {
   "cell_type": "code",
   "execution_count": null,
   "metadata": {},
   "outputs": [],
   "source": [
    "order_sub = lendingclub.groupby(\"sub_grade\")['int_rate'].count().index\n",
    "\n",
    "plt.figure(figsize=(14,16))\n",
    "\n",
    "plt.suptitle('Grade and Sub-Grade Distributions \\n# Interest Rate and Loan Amount #', fontsize=22)\n",
    "\n",
    "plt.subplot(311)\n",
    "g = sns.boxplot(x=\"grade\", y=\"loan_amnt\", data=lendingclub,\n",
    "                palette=\"hls\", hue=\"application_type\", \n",
    "                order=[\"A\",'B','C','D','E','F', 'G'])\n",
    "g.set_xlabel(\"Grade Values\", fontsize=17)\n",
    "g.set_ylabel(\"Loan Amount\", fontsize=17)\n",
    "g.set_title(\"Lending Club Loan - Loan Amount Distribution by Grade\", fontsize=20)\n",
    "g.legend(loc='upper right')\n",
    "\n",
    "plt.subplot(312)\n",
    "g1 = sns.boxplot(x='grade', y=\"int_rate\",data=lendingclub, \n",
    "               hue=\"application_type\", palette = \"hls\",  \n",
    "               order=[\"A\",'B','C','D','E','F', 'G'])\n",
    "g1.set_xlabel(\"Grade Values\", fontsize=17)\n",
    "g1.set_ylabel(\"Interest Rate\", fontsize=17)\n",
    "g1.set_title(\"Lending Club Loan - Interest Rate Distribution by Grade\", fontsize=20)\n",
    "\n",
    "plt.subplot(313)\n",
    "g2 = sns.boxenplot(x=\"sub_grade\", y=\"int_rate\", data=lendingclub, \n",
    "                   palette=\"hls\", order=order_sub)\n",
    "g2.set_xlabel(\"Sub Grade Values\", fontsize=15)\n",
    "g2.set_ylabel(\"Interest Rate\", fontsize=15)\n",
    "g2.set_title(\"Lending Club Loan - Interest Rate Distribution by Sub-Grade\", fontsize=20)\n",
    "\n",
    "plt.subplots_adjust(hspace = 0.4,top = 0.9)\n",
    "\n",
    "plt.show()"
   ]
  },
  {
   "cell_type": "markdown",
   "metadata": {},
   "source": [
    "### Terms"
   ]
  },
  {
   "cell_type": "code",
   "execution_count": null,
   "metadata": {},
   "outputs": [],
   "source": [
    "order_sub = lendingclub.groupby(\"sub_grade\")['int_rate'].count().index\n",
    "\n",
    "plt.figure(figsize=(14,18))\n",
    "\n",
    "plt.suptitle('Term Distributions \\n# Count, Interest Rate and Loan Amount #', fontsize=22)\n",
    "\n",
    "plt.subplot(311)\n",
    "g = sns.countplot(x=\"term\", data=lendingclub,color='blue')\n",
    "g.set_xlabel(\"Term Values\", fontsize=17)\n",
    "g.set_ylabel(\"Count\", fontsize=17)\n",
    "g.set_title(\"Lending Club Loan \\nTerm Count Distribution\", fontsize=20)\n",
    "sizes=[]\n",
    "for p in g.patches:\n",
    "    height = p.get_height()\n",
    "    sizes.append(height)\n",
    "    g.text(p.get_x()+p.get_width()/2.,\n",
    "            height + 3,\n",
    "            '{:1.2f}%'.format(height/total*100),\n",
    "            ha=\"center\", fontsize=14) \n",
    "g.set_ylim(0, max(sizes) * 1.10)\n",
    "\n",
    "plt.subplot(312)\n",
    "g1 = sns.violinplot(x='term', y=\"int_rate\",data=lendingclub )\n",
    "g1.set_xlabel(\"Term Values\", fontsize=17)\n",
    "g1.set_ylabel(\"Interest Rate\", fontsize=17)\n",
    "g1.set_title(\"Lending Club Loan \\nInterest Rate Distribution by Term Values\", fontsize=20)\n",
    "\n",
    "plt.subplot(313)\n",
    "g2 = sns.violinplot(x=\"term\", y=\"loan_amnt\", data=lendingclub)\n",
    "g2.set_xlabel(\"Term Values\", fontsize=17)\n",
    "g2.set_ylabel(\"Loan Amount\", fontsize=17)\n",
    "g2.set_title(\"Lending Club Loan \\nLoan Amount Distribution by Term Values\", fontsize=20)\n",
    "\n",
    "plt.subplots_adjust(hspace = 0.4, top = 0.9)\n",
    "\n",
    "plt.show()"
   ]
  },
  {
   "cell_type": "markdown",
   "metadata": {},
   "source": [
    "## Data engineering y selección de variables"
   ]
  },
  {
   "cell_type": "markdown",
   "metadata": {},
   "source": [
    "### Variables con NA"
   ]
  },
  {
   "cell_type": "markdown",
   "metadata": {},
   "source": [
    "En primer lugar, quitamos todos aquellas variables con un número considerable de valores perdidos que pueden influir negativamente en nuestros modelos. En este caso consideramos quitar todas aquellas variables con más de 431,425 NA. Podemos observar el número de missing values en la siguiente tabla."
   ]
  },
  {
   "cell_type": "code",
   "execution_count": null,
   "metadata": {},
   "outputs": [],
   "source": [
    "na_columnas = pd.DataFrame(lendingclub.isna().sum(), columns = ['Valores NaN']).sort_values(['Valores NaN'], ascending = False)\n",
    "pd.set_option('display.max_rows', nacolumnas.shape[0]+1)\n",
    "na_columnas"
   ]
  },
  {
   "cell_type": "code",
   "execution_count": null,
   "metadata": {},
   "outputs": [],
   "source": [
    "lendingclub1 = lendingclub.dropna(thresh=len(lendingclub) - 431425, axis=1)"
   ]
  },
  {
   "cell_type": "markdown",
   "metadata": {},
   "source": [
    "Comporobamos"
   ]
  },
  {
   "cell_type": "code",
   "execution_count": null,
   "metadata": {},
   "outputs": [],
   "source": [
    "na_columnas1  = pd.DataFrame(lendingclub1.isna().sum(), columns = ['Valores NaN']).sort_values(['Valores NaN'], ascending = False)\n",
    "pd.set_option('display.max_rows', na_columnas1.shape[0]+1)\n",
    "na_columnas1"
   ]
  },
  {
   "cell_type": "markdown",
   "metadata": {},
   "source": [
    "Guardamos este dataset por si nos hiciese falta en un futuro del trabajo"
   ]
  },
  {
   "cell_type": "code",
   "execution_count": null,
   "metadata": {},
   "outputs": [],
   "source": [
    "lendingclub1.to_csv('./data/02_intermidiate_general.csv', index = False)"
   ]
  },
  {
   "cell_type": "markdown",
   "metadata": {},
   "source": [
    "A continuación, vamos a observar las variables de tipo object y ver cuantos tipos de valores contienen."
   ]
  },
  {
   "cell_type": "code",
   "execution_count": null,
   "metadata": {},
   "outputs": [],
   "source": [
    "lendingclub1.select_dtypes(\"object\").nunique().sort_values()"
   ]
  },
  {
   "cell_type": "markdown",
   "metadata": {},
   "source": [
    "Observamos que hay muchos tipos de valores en `url`, lo que podría ser un impedimento a la hora de realizar nuestro modelos así como escasa aportación de información a la hora de determinar el `loan_status`."
   ]
  },
  {
   "cell_type": "markdown",
   "metadata": {},
   "source": [
    "Y vemos los NA que contienen"
   ]
  },
  {
   "cell_type": "code",
   "execution_count": null,
   "metadata": {},
   "outputs": [],
   "source": [
    "lendingclub1.select_dtypes(\"object\").isna().sum()"
   ]
  },
  {
   "cell_type": "markdown",
   "metadata": {},
   "source": [
    "A continuación, mirando la información que nos puede aportar cada variable a la hora de ver si otorgamos un préstamo o no a un cliente, hemos considerado una serie de variables que no resultan relevantes para el objetivo de este trabajo."
   ]
  },
  {
   "cell_type": "code",
   "execution_count": null,
   "metadata": {},
   "outputs": [],
   "source": [
    "lendigclub_v2 = lendingclub1.drop(['id',\n",
    " 'funded_amnt',\n",
    " 'funded_amnt_inv',\n",
    " 'installment',\n",
    " 'emp_title',\n",
    " 'emp_length',\n",
    " 'issue_d',\n",
    "  \"zip_code\",                     \n",
    " 'pymnt_plan',\n",
    " 'url',\n",
    " 'title',\n",
    " 'addr_state',\n",
    " 'dti',\n",
    " 'earliest_cr_line',\n",
    " 'fico_range_low',\n",
    " 'fico_range_high',\n",
    " 'inq_last_6mths',\n",
    " 'pub_rec',\n",
    " 'initial_list_status',\n",
    " 'out_prncp_inv',\n",
    " 'total_pymnt',\n",
    " 'total_pymnt_inv',\n",
    " 'total_rec_late_fee',                   \n",
    " 'last_pymnt_d',\n",
    " 'last_pymnt_amnt',\n",
    " 'last_credit_pull_d',\n",
    " 'last_fico_range_high',\n",
    " 'last_fico_range_low',\n",
    " 'policy_code',\n",
    " 'application_type',\n",
    " 'bc_open_to_buy',\n",
    " 'mo_sin_old_il_acct',\n",
    " 'mo_sin_rcnt_rev_tl_op',\n",
    " 'mo_sin_rcnt_tl',\n",
    " 'mths_since_recent_bc',\n",
    " 'num_actv_bc_tl',\n",
    " 'num_bc_sats',                   \n",
    " 'num_rev_accts',\n",
    " 'num_tl_120dpd_2m',\n",
    " 'num_tl_90g_dpd_24m',\n",
    " 'num_tl_op_past_12m',\n",
    " 'pct_tl_nvr_dlq',\n",
    " 'disbursement_method',\n",
    " 'debt_settlement_flag',\n",
    "  \"mths_since_recent_inq\",\n",
    "\"bc_util\",\n",
    " \"percent_bc_gt_75\",\n",
    " \"revol_util\",\n",
    "\"avg_cur_bal\" ], axis = 1)"
   ]
  },
  {
   "cell_type": "markdown",
   "metadata": {},
   "source": [
    "### Tratamiento de variables categóricas"
   ]
  },
  {
   "cell_type": "markdown",
   "metadata": {},
   "source": [
    "Las varaibles de `term` y `int_rate` Contienen variables categóricas que habría que pasar a numéricas"
   ]
  },
  {
   "cell_type": "code",
   "execution_count": null,
   "metadata": {},
   "outputs": [],
   "source": [
    "sin_months = lendigclub_v2[\"term\"].str.strip(\"months\")\n",
    "sin_months = pd.to_numeric(sin_months)\n",
    "lendigclub_v2[\"term\"] = sin_months"
   ]
  },
  {
   "cell_type": "code",
   "execution_count": null,
   "metadata": {},
   "outputs": [],
   "source": [
    "int_numeric = lendigclub_v2[\"int_rate\"].str.strip(\"%\")\n",
    "int_numeric = pd.to_numeric(int_numeric)\n",
    "lendigclub_v2[\"int_rate\"] = int_numeric/100"
   ]
  },
  {
   "cell_type": "markdown",
   "metadata": {},
   "source": [
    "Comprobamos que se han cambiado de tipo"
   ]
  },
  {
   "cell_type": "code",
   "execution_count": null,
   "metadata": {},
   "outputs": [],
   "source": [
    "lendigclub_v2.info()"
   ]
  },
  {
   "cell_type": "markdown",
   "metadata": {},
   "source": [
    "### Transformación de dummies"
   ]
  },
  {
   "cell_type": "code",
   "execution_count": null,
   "metadata": {},
   "outputs": [],
   "source": [
    "X = lendigclub_v2.drop(['loan_status'], axis=1)\n",
    "encoded_all = pd.get_dummies(X)\n",
    "df_c = pd.concat([encoded_all, lendigclub_v2['loan_status']], axis=1)\n",
    "df_c_prueba_sin_current = df_c[df_c[\"loan_status\"]!=\"Current\"]"
   ]
  },
  {
   "cell_type": "markdown",
   "metadata": {},
   "source": [
    "### Transformación de la variable Target"
   ]
  },
  {
   "cell_type": "markdown",
   "metadata": {},
   "source": [
    "Vemos que en nuestra variable target tenemos 7 valores posibles, para este trabajo haremos un encode entre las que sean Fully Paid y el resto de variables. Por lo tanto las que sean Fully Paid tendrán como valor el 1 y el resto tomarán el valor 0."
   ]
  },
  {
   "cell_type": "markdown",
   "metadata": {},
   "source": [
    "En resumen, vamos a diferenciar entre los clientes que pagan y no pagan. Diferenciamos entre:\n",
    "\n",
    "* Pagan: 'Fully Paid'.\n",
    "\n",
    "* No pagan (se retrasan aunque sea un mínimo): 'Late (31-120 days)','Late (16-30 days)', 'Charged Off', 'Default'."
   ]
  },
  {
   "cell_type": "code",
   "execution_count": null,
   "metadata": {},
   "outputs": [],
   "source": [
    "lendingclub1[\"loan_status\"].value_counts()"
   ]
  },
  {
   "cell_type": "code",
   "execution_count": null,
   "metadata": {},
   "outputs": [],
   "source": [
    "df_c_prueba_sin_current['loan_status'].mask(df_c_prueba_sin_current['loan_status'] == 'Fully Paid', 1, inplace=True)\n",
    "df_c_prueba_sin_current['loan_status'].mask(df_c_prueba_sin_current['loan_status'] != 1, 0, inplace=True)\n"
   ]
  },
  {
   "cell_type": "markdown",
   "metadata": {},
   "source": [
    "### Dataset final para realizar modelos"
   ]
  },
  {
   "cell_type": "code",
   "execution_count": null,
   "metadata": {},
   "outputs": [],
   "source": [
    "df_c_prueba_sin_current.to_csv('./data/03_processed.csv', index = False)"
   ]
  },
  {
   "cell_type": "code",
   "execution_count": null,
   "metadata": {},
   "outputs": [],
   "source": []
  },
  {
   "cell_type": "code",
   "execution_count": null,
   "metadata": {},
   "outputs": [],
   "source": []
  },
  {
   "cell_type": "code",
   "execution_count": null,
   "metadata": {},
   "outputs": [],
   "source": []
  },
  {
   "cell_type": "code",
   "execution_count": null,
   "metadata": {},
   "outputs": [],
   "source": []
  }
 ],
 "metadata": {
  "kernelspec": {
   "display_name": "Python 3",
   "language": "python",
   "name": "python3"
  },
  "language_info": {
   "codemirror_mode": {
    "name": "ipython",
    "version": 3
   },
   "file_extension": ".py",
   "mimetype": "text/x-python",
   "name": "python",
   "nbconvert_exporter": "python",
   "pygments_lexer": "ipython3",
   "version": "3.8.5"
  }
 },
 "nbformat": 4,
 "nbformat_minor": 4
}
